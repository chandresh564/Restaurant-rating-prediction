{
  "cells": [
    {
      "cell_type": "code",
      "source": [
        "from google.colab import drive\n",
        "drive.mount('/content/drive')"
      ],
      "metadata": {
        "id": "dwPuTz6J_Hu-",
        "colab": {
          "base_uri": "https://localhost:8080/"
        },
        "outputId": "c47fa15f-d19e-4558-bf03-eb633c0214bb"
      },
      "execution_count": 1,
      "outputs": [
        {
          "output_type": "stream",
          "name": "stdout",
          "text": [
            "Mounted at /content/drive\n"
          ]
        }
      ]
    },
    {
      "cell_type": "markdown",
      "source": [
        "# Reading the dataset"
      ],
      "metadata": {
        "id": "3PQzYRhDLAzi"
      }
    },
    {
      "cell_type": "code",
      "source": [
        "import pandas as pd\n",
        "df = pd.read_csv('/content/drive/MyDrive/zomato.csv')"
      ],
      "metadata": {
        "id": "AdzY6yJNKzNe"
      },
      "execution_count": 3,
      "outputs": []
    },
    {
      "cell_type": "code",
      "source": [
        "df.sample(5)"
      ],
      "metadata": {
        "colab": {
          "base_uri": "https://localhost:8080/",
          "height": 582
        },
        "id": "10N4gwxCLj4n",
        "outputId": "bdede59b-f59b-4133-853e-001a4b46ff30"
      },
      "execution_count": 4,
      "outputs": [
        {
          "output_type": "execute_result",
          "data": {
            "text/plain": [
              "                                                     url  \\\n",
              "16342  https://www.zomato.com/bangalore/naaniz-biryan...   \n",
              "21949  https://www.zomato.com/bangalore/a-m-biryani-h...   \n",
              "42155  https://www.zomato.com/bangalore/pelican-marat...   \n",
              "22334  https://www.zomato.com/bangalore/gelato-italia...   \n",
              "51457  https://www.zomato.com/bangalore/south-treat-w...   \n",
              "\n",
              "                                                 address               name  \\\n",
              "16342  G 04, Lavanya Serenity, 13th D Cross, Venkatap...    Naani'z Biryani   \n",
              "21949  958/60/A2A, Opposite BGS School, Hulimavu, Ban...  A M Biryani Hotel   \n",
              "42155         84/1, kadubeesanahalli, Panathur Main Road            Pelican   \n",
              "22334  Shop 9, Cashier Layout, 3rd Cross, Thavarekere...    Gelato Italiano   \n",
              "51457  3rd Floor, Virginia Mall, Varthur Main Road, W...        South Treat   \n",
              "\n",
              "      online_order book_table    rate  votes                       phone  \\\n",
              "16342           No         No   3.3/5      6              +91 7337735365   \n",
              "21949          Yes         No   3.3/5      6              +91 8294750933   \n",
              "42155           No         No  3.4 /5     20  065535 43666\\n065535 43666   \n",
              "22334          Yes         No   3.8/5     32              +91 9916341943   \n",
              "51457          Yes         No  3.4 /5      5              +91 8861028111   \n",
              "\n",
              "                    location                   rest_type dish_liked  \\\n",
              "16342  Koramangala 1st Block                 Quick Bites        NaN   \n",
              "21949      Bannerghatta Road                 Quick Bites        NaN   \n",
              "42155           Marathahalli          Pub, Casual Dining        NaN   \n",
              "22334                    BTM  Food Court, Dessert Parlor        NaN   \n",
              "51457             Whitefield                  Food Court        NaN   \n",
              "\n",
              "                                        cuisines approx_cost(for two people)  \\\n",
              "16342                                    Biryani                         300   \n",
              "21949  North Indian, Chinese, Biryani, Fast Food                         300   \n",
              "42155                      North Indian, Chinese                       1,200   \n",
              "22334                Ice Cream, Bakery, Desserts                         200   \n",
              "51457                               South Indian                         400   \n",
              "\n",
              "                                            reviews_list  \\\n",
              "16342  [('Rated 5.0', \"RATED\\n  Good food, value of m...   \n",
              "21949  [('Rated 3.5', 'RATED\\n  Not so popular Hotel ...   \n",
              "42155  [('Rated 5.0', 'RATED\\n  Nice place, good serv...   \n",
              "22334  [('Rated 4.0', \"RATED\\n  Tried black currant a...   \n",
              "51457  [('Rated 3.0', 'RATED\\n  i loved the chettinad...   \n",
              "\n",
              "                                               menu_item     listed_in(type)  \\\n",
              "16342                                                 []            Delivery   \n",
              "21949  ['Biryani Rice', 'Ambur Chicken Biryani', 'Chi...            Delivery   \n",
              "42155                                                 []  Drinks & nightlife   \n",
              "22334  ['Butterscotch Indulge', 'Fruit and Nut Overlo...            Delivery   \n",
              "51457                                                 []            Dine-out   \n",
              "\n",
              "      listed_in(city)  \n",
              "16342             HSR  \n",
              "21949        JP Nagar  \n",
              "42155    Marathahalli  \n",
              "22334        JP Nagar  \n",
              "51457      Whitefield  "
            ],
            "text/html": [
              "\n",
              "\n",
              "  <div id=\"df-544c8cf2-2c48-4250-83d0-41a51f679c47\">\n",
              "    <div class=\"colab-df-container\">\n",
              "      <div>\n",
              "<style scoped>\n",
              "    .dataframe tbody tr th:only-of-type {\n",
              "        vertical-align: middle;\n",
              "    }\n",
              "\n",
              "    .dataframe tbody tr th {\n",
              "        vertical-align: top;\n",
              "    }\n",
              "\n",
              "    .dataframe thead th {\n",
              "        text-align: right;\n",
              "    }\n",
              "</style>\n",
              "<table border=\"1\" class=\"dataframe\">\n",
              "  <thead>\n",
              "    <tr style=\"text-align: right;\">\n",
              "      <th></th>\n",
              "      <th>url</th>\n",
              "      <th>address</th>\n",
              "      <th>name</th>\n",
              "      <th>online_order</th>\n",
              "      <th>book_table</th>\n",
              "      <th>rate</th>\n",
              "      <th>votes</th>\n",
              "      <th>phone</th>\n",
              "      <th>location</th>\n",
              "      <th>rest_type</th>\n",
              "      <th>dish_liked</th>\n",
              "      <th>cuisines</th>\n",
              "      <th>approx_cost(for two people)</th>\n",
              "      <th>reviews_list</th>\n",
              "      <th>menu_item</th>\n",
              "      <th>listed_in(type)</th>\n",
              "      <th>listed_in(city)</th>\n",
              "    </tr>\n",
              "  </thead>\n",
              "  <tbody>\n",
              "    <tr>\n",
              "      <th>16342</th>\n",
              "      <td>https://www.zomato.com/bangalore/naaniz-biryan...</td>\n",
              "      <td>G 04, Lavanya Serenity, 13th D Cross, Venkatap...</td>\n",
              "      <td>Naani'z Biryani</td>\n",
              "      <td>No</td>\n",
              "      <td>No</td>\n",
              "      <td>3.3/5</td>\n",
              "      <td>6</td>\n",
              "      <td>+91 7337735365</td>\n",
              "      <td>Koramangala 1st Block</td>\n",
              "      <td>Quick Bites</td>\n",
              "      <td>NaN</td>\n",
              "      <td>Biryani</td>\n",
              "      <td>300</td>\n",
              "      <td>[('Rated 5.0', \"RATED\\n  Good food, value of m...</td>\n",
              "      <td>[]</td>\n",
              "      <td>Delivery</td>\n",
              "      <td>HSR</td>\n",
              "    </tr>\n",
              "    <tr>\n",
              "      <th>21949</th>\n",
              "      <td>https://www.zomato.com/bangalore/a-m-biryani-h...</td>\n",
              "      <td>958/60/A2A, Opposite BGS School, Hulimavu, Ban...</td>\n",
              "      <td>A M Biryani Hotel</td>\n",
              "      <td>Yes</td>\n",
              "      <td>No</td>\n",
              "      <td>3.3/5</td>\n",
              "      <td>6</td>\n",
              "      <td>+91 8294750933</td>\n",
              "      <td>Bannerghatta Road</td>\n",
              "      <td>Quick Bites</td>\n",
              "      <td>NaN</td>\n",
              "      <td>North Indian, Chinese, Biryani, Fast Food</td>\n",
              "      <td>300</td>\n",
              "      <td>[('Rated 3.5', 'RATED\\n  Not so popular Hotel ...</td>\n",
              "      <td>['Biryani Rice', 'Ambur Chicken Biryani', 'Chi...</td>\n",
              "      <td>Delivery</td>\n",
              "      <td>JP Nagar</td>\n",
              "    </tr>\n",
              "    <tr>\n",
              "      <th>42155</th>\n",
              "      <td>https://www.zomato.com/bangalore/pelican-marat...</td>\n",
              "      <td>84/1, kadubeesanahalli, Panathur Main Road</td>\n",
              "      <td>Pelican</td>\n",
              "      <td>No</td>\n",
              "      <td>No</td>\n",
              "      <td>3.4 /5</td>\n",
              "      <td>20</td>\n",
              "      <td>065535 43666\\n065535 43666</td>\n",
              "      <td>Marathahalli</td>\n",
              "      <td>Pub, Casual Dining</td>\n",
              "      <td>NaN</td>\n",
              "      <td>North Indian, Chinese</td>\n",
              "      <td>1,200</td>\n",
              "      <td>[('Rated 5.0', 'RATED\\n  Nice place, good serv...</td>\n",
              "      <td>[]</td>\n",
              "      <td>Drinks &amp; nightlife</td>\n",
              "      <td>Marathahalli</td>\n",
              "    </tr>\n",
              "    <tr>\n",
              "      <th>22334</th>\n",
              "      <td>https://www.zomato.com/bangalore/gelato-italia...</td>\n",
              "      <td>Shop 9, Cashier Layout, 3rd Cross, Thavarekere...</td>\n",
              "      <td>Gelato Italiano</td>\n",
              "      <td>Yes</td>\n",
              "      <td>No</td>\n",
              "      <td>3.8/5</td>\n",
              "      <td>32</td>\n",
              "      <td>+91 9916341943</td>\n",
              "      <td>BTM</td>\n",
              "      <td>Food Court, Dessert Parlor</td>\n",
              "      <td>NaN</td>\n",
              "      <td>Ice Cream, Bakery, Desserts</td>\n",
              "      <td>200</td>\n",
              "      <td>[('Rated 4.0', \"RATED\\n  Tried black currant a...</td>\n",
              "      <td>['Butterscotch Indulge', 'Fruit and Nut Overlo...</td>\n",
              "      <td>Delivery</td>\n",
              "      <td>JP Nagar</td>\n",
              "    </tr>\n",
              "    <tr>\n",
              "      <th>51457</th>\n",
              "      <td>https://www.zomato.com/bangalore/south-treat-w...</td>\n",
              "      <td>3rd Floor, Virginia Mall, Varthur Main Road, W...</td>\n",
              "      <td>South Treat</td>\n",
              "      <td>Yes</td>\n",
              "      <td>No</td>\n",
              "      <td>3.4 /5</td>\n",
              "      <td>5</td>\n",
              "      <td>+91 8861028111</td>\n",
              "      <td>Whitefield</td>\n",
              "      <td>Food Court</td>\n",
              "      <td>NaN</td>\n",
              "      <td>South Indian</td>\n",
              "      <td>400</td>\n",
              "      <td>[('Rated 3.0', 'RATED\\n  i loved the chettinad...</td>\n",
              "      <td>[]</td>\n",
              "      <td>Dine-out</td>\n",
              "      <td>Whitefield</td>\n",
              "    </tr>\n",
              "  </tbody>\n",
              "</table>\n",
              "</div>\n",
              "      <button class=\"colab-df-convert\" onclick=\"convertToInteractive('df-544c8cf2-2c48-4250-83d0-41a51f679c47')\"\n",
              "              title=\"Convert this dataframe to an interactive table.\"\n",
              "              style=\"display:none;\">\n",
              "\n",
              "  <svg xmlns=\"http://www.w3.org/2000/svg\" height=\"24px\"viewBox=\"0 0 24 24\"\n",
              "       width=\"24px\">\n",
              "    <path d=\"M0 0h24v24H0V0z\" fill=\"none\"/>\n",
              "    <path d=\"M18.56 5.44l.94 2.06.94-2.06 2.06-.94-2.06-.94-.94-2.06-.94 2.06-2.06.94zm-11 1L8.5 8.5l.94-2.06 2.06-.94-2.06-.94L8.5 2.5l-.94 2.06-2.06.94zm10 10l.94 2.06.94-2.06 2.06-.94-2.06-.94-.94-2.06-.94 2.06-2.06.94z\"/><path d=\"M17.41 7.96l-1.37-1.37c-.4-.4-.92-.59-1.43-.59-.52 0-1.04.2-1.43.59L10.3 9.45l-7.72 7.72c-.78.78-.78 2.05 0 2.83L4 21.41c.39.39.9.59 1.41.59.51 0 1.02-.2 1.41-.59l7.78-7.78 2.81-2.81c.8-.78.8-2.07 0-2.86zM5.41 20L4 18.59l7.72-7.72 1.47 1.35L5.41 20z\"/>\n",
              "  </svg>\n",
              "      </button>\n",
              "\n",
              "\n",
              "\n",
              "    <div id=\"df-d618c075-147a-4f15-9bb2-6f8cc15b3ac4\">\n",
              "      <button class=\"colab-df-quickchart\" onclick=\"quickchart('df-d618c075-147a-4f15-9bb2-6f8cc15b3ac4')\"\n",
              "              title=\"Suggest charts.\"\n",
              "              style=\"display:none;\">\n",
              "\n",
              "<svg xmlns=\"http://www.w3.org/2000/svg\" height=\"24px\"viewBox=\"0 0 24 24\"\n",
              "     width=\"24px\">\n",
              "    <g>\n",
              "        <path d=\"M19 3H5c-1.1 0-2 .9-2 2v14c0 1.1.9 2 2 2h14c1.1 0 2-.9 2-2V5c0-1.1-.9-2-2-2zM9 17H7v-7h2v7zm4 0h-2V7h2v10zm4 0h-2v-4h2v4z\"/>\n",
              "    </g>\n",
              "</svg>\n",
              "      </button>\n",
              "    </div>\n",
              "\n",
              "<style>\n",
              "  .colab-df-quickchart {\n",
              "    background-color: #E8F0FE;\n",
              "    border: none;\n",
              "    border-radius: 50%;\n",
              "    cursor: pointer;\n",
              "    display: none;\n",
              "    fill: #1967D2;\n",
              "    height: 32px;\n",
              "    padding: 0 0 0 0;\n",
              "    width: 32px;\n",
              "  }\n",
              "\n",
              "  .colab-df-quickchart:hover {\n",
              "    background-color: #E2EBFA;\n",
              "    box-shadow: 0px 1px 2px rgba(60, 64, 67, 0.3), 0px 1px 3px 1px rgba(60, 64, 67, 0.15);\n",
              "    fill: #174EA6;\n",
              "  }\n",
              "\n",
              "  [theme=dark] .colab-df-quickchart {\n",
              "    background-color: #3B4455;\n",
              "    fill: #D2E3FC;\n",
              "  }\n",
              "\n",
              "  [theme=dark] .colab-df-quickchart:hover {\n",
              "    background-color: #434B5C;\n",
              "    box-shadow: 0px 1px 3px 1px rgba(0, 0, 0, 0.15);\n",
              "    filter: drop-shadow(0px 1px 2px rgba(0, 0, 0, 0.3));\n",
              "    fill: #FFFFFF;\n",
              "  }\n",
              "</style>\n",
              "\n",
              "    <script>\n",
              "      async function quickchart(key) {\n",
              "        const containerElement = document.querySelector('#' + key);\n",
              "        const charts = await google.colab.kernel.invokeFunction(\n",
              "            'suggestCharts', [key], {});\n",
              "      }\n",
              "    </script>\n",
              "\n",
              "      <script>\n",
              "\n",
              "function displayQuickchartButton(domScope) {\n",
              "  let quickchartButtonEl =\n",
              "    domScope.querySelector('#df-d618c075-147a-4f15-9bb2-6f8cc15b3ac4 button.colab-df-quickchart');\n",
              "  quickchartButtonEl.style.display =\n",
              "    google.colab.kernel.accessAllowed ? 'block' : 'none';\n",
              "}\n",
              "\n",
              "        displayQuickchartButton(document);\n",
              "      </script>\n",
              "      <style>\n",
              "    .colab-df-container {\n",
              "      display:flex;\n",
              "      flex-wrap:wrap;\n",
              "      gap: 12px;\n",
              "    }\n",
              "\n",
              "    .colab-df-convert {\n",
              "      background-color: #E8F0FE;\n",
              "      border: none;\n",
              "      border-radius: 50%;\n",
              "      cursor: pointer;\n",
              "      display: none;\n",
              "      fill: #1967D2;\n",
              "      height: 32px;\n",
              "      padding: 0 0 0 0;\n",
              "      width: 32px;\n",
              "    }\n",
              "\n",
              "    .colab-df-convert:hover {\n",
              "      background-color: #E2EBFA;\n",
              "      box-shadow: 0px 1px 2px rgba(60, 64, 67, 0.3), 0px 1px 3px 1px rgba(60, 64, 67, 0.15);\n",
              "      fill: #174EA6;\n",
              "    }\n",
              "\n",
              "    [theme=dark] .colab-df-convert {\n",
              "      background-color: #3B4455;\n",
              "      fill: #D2E3FC;\n",
              "    }\n",
              "\n",
              "    [theme=dark] .colab-df-convert:hover {\n",
              "      background-color: #434B5C;\n",
              "      box-shadow: 0px 1px 3px 1px rgba(0, 0, 0, 0.15);\n",
              "      filter: drop-shadow(0px 1px 2px rgba(0, 0, 0, 0.3));\n",
              "      fill: #FFFFFF;\n",
              "    }\n",
              "  </style>\n",
              "\n",
              "      <script>\n",
              "        const buttonEl =\n",
              "          document.querySelector('#df-544c8cf2-2c48-4250-83d0-41a51f679c47 button.colab-df-convert');\n",
              "        buttonEl.style.display =\n",
              "          google.colab.kernel.accessAllowed ? 'block' : 'none';\n",
              "\n",
              "        async function convertToInteractive(key) {\n",
              "          const element = document.querySelector('#df-544c8cf2-2c48-4250-83d0-41a51f679c47');\n",
              "          const dataTable =\n",
              "            await google.colab.kernel.invokeFunction('convertToInteractive',\n",
              "                                                     [key], {});\n",
              "          if (!dataTable) return;\n",
              "\n",
              "          const docLinkHtml = 'Like what you see? Visit the ' +\n",
              "            '<a target=\"_blank\" href=https://colab.research.google.com/notebooks/data_table.ipynb>data table notebook</a>'\n",
              "            + ' to learn more about interactive tables.';\n",
              "          element.innerHTML = '';\n",
              "          dataTable['output_type'] = 'display_data';\n",
              "          await google.colab.output.renderOutput(dataTable, element);\n",
              "          const docLink = document.createElement('div');\n",
              "          docLink.innerHTML = docLinkHtml;\n",
              "          element.appendChild(docLink);\n",
              "        }\n",
              "      </script>\n",
              "    </div>\n",
              "  </div>\n"
            ]
          },
          "metadata": {},
          "execution_count": 4
        }
      ]
    },
    {
      "cell_type": "code",
      "source": [
        "df.columns"
      ],
      "metadata": {
        "colab": {
          "base_uri": "https://localhost:8080/"
        },
        "id": "VlB7S-yRLhUr",
        "outputId": "52be4b93-0737-439a-9c4b-cf46d5cef3d7"
      },
      "execution_count": 5,
      "outputs": [
        {
          "output_type": "execute_result",
          "data": {
            "text/plain": [
              "Index(['url', 'address', 'name', 'online_order', 'book_table', 'rate', 'votes',\n",
              "       'phone', 'location', 'rest_type', 'dish_liked', 'cuisines',\n",
              "       'approx_cost(for two people)', 'reviews_list', 'menu_item',\n",
              "       'listed_in(type)', 'listed_in(city)'],\n",
              "      dtype='object')"
            ]
          },
          "metadata": {},
          "execution_count": 5
        }
      ]
    },
    {
      "cell_type": "code",
      "source": [
        "df.info()"
      ],
      "metadata": {
        "colab": {
          "base_uri": "https://localhost:8080/"
        },
        "id": "5ygE7RBfMTUw",
        "outputId": "f4f62198-e867-4d6c-be50-b6e612a87997"
      },
      "execution_count": 10,
      "outputs": [
        {
          "output_type": "stream",
          "name": "stdout",
          "text": [
            "<class 'pandas.core.frame.DataFrame'>\n",
            "RangeIndex: 51717 entries, 0 to 51716\n",
            "Data columns (total 17 columns):\n",
            " #   Column                       Non-Null Count  Dtype \n",
            "---  ------                       --------------  ----- \n",
            " 0   url                          51717 non-null  object\n",
            " 1   address                      51717 non-null  object\n",
            " 2   name                         51717 non-null  object\n",
            " 3   online_order                 51717 non-null  object\n",
            " 4   book_table                   51717 non-null  object\n",
            " 5   rate                         43942 non-null  object\n",
            " 6   votes                        51717 non-null  int64 \n",
            " 7   phone                        50509 non-null  object\n",
            " 8   location                     51696 non-null  object\n",
            " 9   rest_type                    51490 non-null  object\n",
            " 10  dish_liked                   23639 non-null  object\n",
            " 11  cuisines                     51672 non-null  object\n",
            " 12  approx_cost(for two people)  51371 non-null  object\n",
            " 13  reviews_list                 51717 non-null  object\n",
            " 14  menu_item                    51717 non-null  object\n",
            " 15  listed_in(type)              51717 non-null  object\n",
            " 16  listed_in(city)              51717 non-null  object\n",
            "dtypes: int64(1), object(16)\n",
            "memory usage: 6.7+ MB\n"
          ]
        }
      ]
    },
    {
      "cell_type": "markdown",
      "source": [
        "# Dropping unnecessary columns"
      ],
      "metadata": {
        "id": "wKS4mX0xLZQ4"
      }
    },
    {
      "cell_type": "code",
      "source": [
        "# menu_item,reviews list,dish liked columns have too many empty values which provide no information. So dropping them too\n",
        "# city and location are related. Location cannot be choosen as a feature as it has too many unique values\n",
        "df_copy=df.drop(['url','address','phone', 'reviews_list','menu_item','dish_liked','location','name'],axis=1)"
      ],
      "metadata": {
        "id": "fvJ-2nyPLGAm"
      },
      "execution_count": 6,
      "outputs": []
    },
    {
      "cell_type": "markdown",
      "source": [
        "# Renaming the columns"
      ],
      "metadata": {
        "id": "xRDV_PUhMKhY"
      }
    },
    {
      "cell_type": "code",
      "source": [
        "df_copy=df_copy.rename(columns={'listed_in(city)':'location',\n",
        "                                'rate':'rating',\n",
        "                                'rest_type':'type',\n",
        "                                'listed_in(type)':'listed_type',\n",
        "                                'approx_cost(for two people)':'cost'\n",
        "                                })"
      ],
      "metadata": {
        "id": "VND_F33g0Q8E"
      },
      "execution_count": 11,
      "outputs": []
    },
    {
      "cell_type": "markdown",
      "source": [
        "# Feature Engineering"
      ],
      "metadata": {
        "id": "qlrY-XoqMvQv"
      }
    },
    {
      "cell_type": "code",
      "source": [
        "# 1. votes column\n",
        "# dropping restaurants with no votes\n",
        "df_copy=df_copy[df_copy['votes']!=0]\n",
        "df_copy = df_copy.reset_index(drop=True)"
      ],
      "metadata": {
        "id": "q8cZJBIHPYw3"
      },
      "execution_count": 13,
      "outputs": []
    },
    {
      "cell_type": "code",
      "source": [
        "# 2. rating column\n",
        "# converting rating of the form x/5 to x\n",
        "import math\n",
        "def apply_convert(value):\n",
        "    val = str(value).split('/')\n",
        "    return round(float(val[0]),1)\n",
        "df_copy['rating'] = df_copy['rating'].apply(apply_convert)\n",
        "df_copy = df_copy[df_copy['rating'].apply(lambda x: not math.isnan(x))]"
      ],
      "metadata": {
        "id": "qH5io6DvL_jJ"
      },
      "execution_count": 14,
      "outputs": []
    },
    {
      "cell_type": "code",
      "source": [
        "# 3. cost column\n",
        "# replacing the missing values in cost_for_two column by mean of the groupby objects\n",
        "df_copy['cost'] = pd.to_numeric(df_copy['cost'], errors='coerce').astype('Float64')\n",
        "df_copy['cost'] = df_copy.groupby(['location', 'listed_type'])['cost'].transform(lambda x: x.fillna(x.mean()))\n",
        "df_copy['cost'] = df_copy.groupby(['location'])['cost'].transform(lambda x: x.fillna(x.mean()))"
      ],
      "metadata": {
        "id": "FOASsa9U0RA7"
      },
      "execution_count": 15,
      "outputs": []
    },
    {
      "cell_type": "code",
      "source": [
        "# 4. cuisines/dishes column\n",
        "# each cuisne offered at atleast 100 restaurants is taken as a feature\n",
        "\n",
        "df_copy.dropna(subset='cuisines',inplace=True)\n",
        "df_copy = df_copy.reset_index(drop=True)\n",
        "\n",
        "dic={}\n",
        "for i in df_copy['cuisines']:\n",
        "  for j in i.split(','):\n",
        "    if j.lstrip() in dic:\n",
        "      dic[j.lstrip()]+=1\n",
        "    else:\n",
        "      dic[j.lstrip()]=1\n",
        "\n",
        "cuisines_to_keep=[]\n",
        "for i,j in dic.items():\n",
        "  if j>100:\n",
        "    cuisines_to_keep.append(i)\n",
        "\n",
        "df_copy['cuisines']=df_copy['cuisines'].apply(lambda x: [value.lstrip() for value in x.split(',')])\n",
        "\n",
        "from sklearn.preprocessing import MultiLabelBinarizer\n",
        "mlb = MultiLabelBinarizer()\n",
        "\n",
        "one_hot_encoded = pd.DataFrame(mlb.fit_transform(df_copy['cuisines']), columns=mlb.classes_)\n",
        "\n",
        "one_hot_encoded = one_hot_encoded[cuisines_to_keep]\n",
        "\n",
        "df_combined = pd.concat([df_copy, one_hot_encoded], axis=1)\n",
        "\n",
        "df_combined = df_combined.loc[~(df_combined[cuisines_to_keep] == 0).all(axis=1)]\n",
        "\n",
        "df_combined = df_combined.drop(columns=['cuisines']).reset_index(drop=True)"
      ],
      "metadata": {
        "id": "nyXHeCPbfFBj"
      },
      "execution_count": 16,
      "outputs": []
    },
    {
      "cell_type": "code",
      "source": [
        "# 5. listed_type column\n",
        "\n",
        "df_combined.drop(columns=['listed_type'],inplace=True)"
      ],
      "metadata": {
        "id": "xwhXC1cUE5C7"
      },
      "execution_count": 17,
      "outputs": []
    },
    {
      "cell_type": "code",
      "source": [
        "# 6. type column\n",
        "# similar to cuisines column. The type column is one hot encoded with each type as a feature\n",
        "\n",
        "df_combined.dropna(subset='type',inplace=True)\n",
        "df_combined = df_combined.reset_index(drop=True)\n",
        "\n",
        "df_combined['type']=df_combined['type'].apply(lambda x: [value.lstrip() for value in x.split(',')])\n",
        "\n",
        "from sklearn.preprocessing import MultiLabelBinarizer\n",
        "mlb = MultiLabelBinarizer()\n",
        "\n",
        "one_hot_encoded = pd.DataFrame(mlb.fit_transform(df_combined['type']), columns=mlb.classes_)\n",
        "\n",
        "df_final = pd.concat([df_combined, one_hot_encoded], axis=1)\n",
        "\n",
        "df_final = df_final.drop(columns=['type'])"
      ],
      "metadata": {
        "id": "uU3ad3e3E5IL"
      },
      "execution_count": 18,
      "outputs": []
    },
    {
      "cell_type": "code",
      "source": [
        "# 7. location column\n",
        "# location column is also one hot encoded\n",
        "\n",
        "df_final = pd.get_dummies(df_final, columns=['location'], prefix='', prefix_sep='')"
      ],
      "metadata": {
        "id": "iLV_pOZ59WhV"
      },
      "execution_count": 19,
      "outputs": []
    },
    {
      "cell_type": "code",
      "source": [
        "# 8. online order and book table columns\n",
        "\n",
        "df_final['online_order'] = df_final['online_order'].map({'Yes': 1, 'No': 0})\n",
        "df_final['book_table'] = df_final['book_table'].map({'Yes': 1, 'No': 0})"
      ],
      "metadata": {
        "id": "XXT5e36bkDra"
      },
      "execution_count": 20,
      "outputs": []
    },
    {
      "cell_type": "markdown",
      "source": [
        "# Final columns"
      ],
      "metadata": {
        "id": "ro0wf3H5P_sI"
      }
    },
    {
      "cell_type": "code",
      "source": [
        "df_final.columns"
      ],
      "metadata": {
        "colab": {
          "base_uri": "https://localhost:8080/"
        },
        "id": "M3aDG7w4oXTN",
        "outputId": "3083c0a5-8e9d-4d69-ba22-6eae14c7547a"
      },
      "execution_count": 21,
      "outputs": [
        {
          "output_type": "execute_result",
          "data": {
            "text/plain": [
              "Index(['online_order', 'book_table', 'rating', 'votes', 'cost', 'North Indian',\n",
              "       'Mughlai', 'Chinese', 'Thai', 'Cafe',\n",
              "       ...\n",
              "       'Lavelle Road', 'MG Road', 'Malleshwaram', 'Marathahalli',\n",
              "       'New BEL Road', 'Old Airport Road', 'Rajajinagar', 'Residency Road',\n",
              "       'Sarjapur Road', 'Whitefield'],\n",
              "      dtype='object', length=113)"
            ]
          },
          "metadata": {},
          "execution_count": 21
        }
      ]
    },
    {
      "cell_type": "markdown",
      "source": [
        "# Standard Scaling"
      ],
      "metadata": {
        "id": "TtrUbvObQK1k"
      }
    },
    {
      "cell_type": "code",
      "source": [
        "from sklearn.preprocessing import StandardScaler\n",
        "cost_values = df_final['cost'].values.reshape(-1, 1)\n",
        "scaler = StandardScaler()\n",
        "new = scaler.fit_transform(cost_values)"
      ],
      "metadata": {
        "id": "7H8146NaPgxP"
      },
      "execution_count": 22,
      "outputs": []
    },
    {
      "cell_type": "markdown",
      "source": [
        "# Train-Test split"
      ],
      "metadata": {
        "id": "cj_9S5UxQ40H"
      }
    },
    {
      "cell_type": "code",
      "source": [
        "from sklearn.model_selection import train_test_split\n",
        "y=df_final['rating']\n",
        "X=df_final.drop(['rating'],axis=1)\n",
        "X_train,X_test,y_train,y_test = train_test_split(X,y,test_size=0.2,random_state=42)"
      ],
      "metadata": {
        "id": "taMekq3QclGk"
      },
      "execution_count": 23,
      "outputs": []
    },
    {
      "cell_type": "markdown",
      "source": [
        "# Model selection and training"
      ],
      "metadata": {
        "id": "omE24RwjQ_P_"
      }
    },
    {
      "cell_type": "code",
      "source": [
        "from sklearn.ensemble import RandomForestRegressor\n",
        "rfr = RandomForestRegressor()"
      ],
      "metadata": {
        "id": "AUjyIwcqd-Zz"
      },
      "execution_count": 24,
      "outputs": []
    },
    {
      "cell_type": "code",
      "source": [
        "rfr.fit(X_train,y_train)"
      ],
      "metadata": {
        "colab": {
          "base_uri": "https://localhost:8080/",
          "height": 74
        },
        "id": "piqGJEaLeZV1",
        "outputId": "f49cc591-0028-411a-f0ce-554ac432f761"
      },
      "execution_count": 25,
      "outputs": [
        {
          "output_type": "execute_result",
          "data": {
            "text/plain": [
              "RandomForestRegressor()"
            ],
            "text/html": [
              "<style>#sk-container-id-1 {color: black;background-color: white;}#sk-container-id-1 pre{padding: 0;}#sk-container-id-1 div.sk-toggleable {background-color: white;}#sk-container-id-1 label.sk-toggleable__label {cursor: pointer;display: block;width: 100%;margin-bottom: 0;padding: 0.3em;box-sizing: border-box;text-align: center;}#sk-container-id-1 label.sk-toggleable__label-arrow:before {content: \"▸\";float: left;margin-right: 0.25em;color: #696969;}#sk-container-id-1 label.sk-toggleable__label-arrow:hover:before {color: black;}#sk-container-id-1 div.sk-estimator:hover label.sk-toggleable__label-arrow:before {color: black;}#sk-container-id-1 div.sk-toggleable__content {max-height: 0;max-width: 0;overflow: hidden;text-align: left;background-color: #f0f8ff;}#sk-container-id-1 div.sk-toggleable__content pre {margin: 0.2em;color: black;border-radius: 0.25em;background-color: #f0f8ff;}#sk-container-id-1 input.sk-toggleable__control:checked~div.sk-toggleable__content {max-height: 200px;max-width: 100%;overflow: auto;}#sk-container-id-1 input.sk-toggleable__control:checked~label.sk-toggleable__label-arrow:before {content: \"▾\";}#sk-container-id-1 div.sk-estimator input.sk-toggleable__control:checked~label.sk-toggleable__label {background-color: #d4ebff;}#sk-container-id-1 div.sk-label input.sk-toggleable__control:checked~label.sk-toggleable__label {background-color: #d4ebff;}#sk-container-id-1 input.sk-hidden--visually {border: 0;clip: rect(1px 1px 1px 1px);clip: rect(1px, 1px, 1px, 1px);height: 1px;margin: -1px;overflow: hidden;padding: 0;position: absolute;width: 1px;}#sk-container-id-1 div.sk-estimator {font-family: monospace;background-color: #f0f8ff;border: 1px dotted black;border-radius: 0.25em;box-sizing: border-box;margin-bottom: 0.5em;}#sk-container-id-1 div.sk-estimator:hover {background-color: #d4ebff;}#sk-container-id-1 div.sk-parallel-item::after {content: \"\";width: 100%;border-bottom: 1px solid gray;flex-grow: 1;}#sk-container-id-1 div.sk-label:hover label.sk-toggleable__label {background-color: #d4ebff;}#sk-container-id-1 div.sk-serial::before {content: \"\";position: absolute;border-left: 1px solid gray;box-sizing: border-box;top: 0;bottom: 0;left: 50%;z-index: 0;}#sk-container-id-1 div.sk-serial {display: flex;flex-direction: column;align-items: center;background-color: white;padding-right: 0.2em;padding-left: 0.2em;position: relative;}#sk-container-id-1 div.sk-item {position: relative;z-index: 1;}#sk-container-id-1 div.sk-parallel {display: flex;align-items: stretch;justify-content: center;background-color: white;position: relative;}#sk-container-id-1 div.sk-item::before, #sk-container-id-1 div.sk-parallel-item::before {content: \"\";position: absolute;border-left: 1px solid gray;box-sizing: border-box;top: 0;bottom: 0;left: 50%;z-index: -1;}#sk-container-id-1 div.sk-parallel-item {display: flex;flex-direction: column;z-index: 1;position: relative;background-color: white;}#sk-container-id-1 div.sk-parallel-item:first-child::after {align-self: flex-end;width: 50%;}#sk-container-id-1 div.sk-parallel-item:last-child::after {align-self: flex-start;width: 50%;}#sk-container-id-1 div.sk-parallel-item:only-child::after {width: 0;}#sk-container-id-1 div.sk-dashed-wrapped {border: 1px dashed gray;margin: 0 0.4em 0.5em 0.4em;box-sizing: border-box;padding-bottom: 0.4em;background-color: white;}#sk-container-id-1 div.sk-label label {font-family: monospace;font-weight: bold;display: inline-block;line-height: 1.2em;}#sk-container-id-1 div.sk-label-container {text-align: center;}#sk-container-id-1 div.sk-container {/* jupyter's `normalize.less` sets `[hidden] { display: none; }` but bootstrap.min.css set `[hidden] { display: none !important; }` so we also need the `!important` here to be able to override the default hidden behavior on the sphinx rendered scikit-learn.org. See: https://github.com/scikit-learn/scikit-learn/issues/21755 */display: inline-block !important;position: relative;}#sk-container-id-1 div.sk-text-repr-fallback {display: none;}</style><div id=\"sk-container-id-1\" class=\"sk-top-container\"><div class=\"sk-text-repr-fallback\"><pre>RandomForestRegressor()</pre><b>In a Jupyter environment, please rerun this cell to show the HTML representation or trust the notebook. <br />On GitHub, the HTML representation is unable to render, please try loading this page with nbviewer.org.</b></div><div class=\"sk-container\" hidden><div class=\"sk-item\"><div class=\"sk-estimator sk-toggleable\"><input class=\"sk-toggleable__control sk-hidden--visually\" id=\"sk-estimator-id-1\" type=\"checkbox\" checked><label for=\"sk-estimator-id-1\" class=\"sk-toggleable__label sk-toggleable__label-arrow\">RandomForestRegressor</label><div class=\"sk-toggleable__content\"><pre>RandomForestRegressor()</pre></div></div></div></div></div>"
            ]
          },
          "metadata": {},
          "execution_count": 25
        }
      ]
    },
    {
      "cell_type": "code",
      "source": [
        "print(rfr.score(X_train,y_train))\n",
        "print(rfr.score(X_test,y_test))"
      ],
      "metadata": {
        "colab": {
          "base_uri": "https://localhost:8080/"
        },
        "id": "WRxEn_6SfKrL",
        "outputId": "337bceb4-9c42-432c-b86b-9a57c6330ead"
      },
      "execution_count": 26,
      "outputs": [
        {
          "output_type": "stream",
          "name": "stdout",
          "text": [
            "0.9830813437789361\n",
            "0.8945167715780609\n"
          ]
        }
      ]
    },
    {
      "cell_type": "code",
      "source": [],
      "metadata": {
        "id": "xcSGvnMqRfAH"
      },
      "execution_count": null,
      "outputs": []
    }
  ],
  "metadata": {
    "colab": {
      "provenance": [],
      "gpuType": "T4"
    },
    "kernelspec": {
      "display_name": "Python 3",
      "name": "python3"
    },
    "language_info": {
      "name": "python"
    }
  },
  "nbformat": 4,
  "nbformat_minor": 0
}